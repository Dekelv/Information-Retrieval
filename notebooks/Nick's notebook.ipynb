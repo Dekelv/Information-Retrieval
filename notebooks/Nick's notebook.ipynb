{
 "cells": [
  {
   "cell_type": "markdown",
   "metadata": {},
   "source": [
    "### Syntactic Features"
   ]
  },
  {
   "cell_type": "code",
   "execution_count": 22,
   "metadata": {},
   "outputs": [],
   "source": [
    "import spacy\n",
    "nlp = spacy.load(\"en_core_web_sm\")\n",
    "\n",
    "def get_pos_and_ner(tweet):\n",
    "    tweet = nlp(tweet)\n",
    "    return ([(x.orth_, x.pos_,x.tag_, x.ent_type_) for x in [y for y in tweet if y.pos_ != 'SPACE']], tweet.ents) "
   ]
  },
  {
   "cell_type": "code",
   "execution_count": 40,
   "metadata": {
    "pycharm": {
     "name": "#%%\n"
    }
   },
   "outputs": [],
   "source": [
    "from collections import Counter\n",
    "\n",
    "def get_syntactic_features(tweets):\n",
    "    syn_features = [];\n",
    "\n",
    "    for tweet in tweets:\n",
    "        #List of all possible coarse pos-tags. 'Space' pos-tag not included\n",
    "        tagset = ['ADJ', 'ADP', 'ADV', 'AUX', 'CONJ', 'CCONJ', 'DET', 'INTJ', 'NOUN', 'NUM', 'PART', 'PRON', 'PROPN', 'PUNCT', 'SCONJ', 'SYM', 'VERB', 'X']\n",
    "        (pos_list,ents_list) = get_pos_and_ner(tweet)\n",
    "        print(ents_list)\n",
    "        num_tokens = len(pos_list)\n",
    "        pos_map = Counter([pos for (_,pos,_,_) in pos_list])\n",
    "        \n",
    "        pos_features = []\n",
    "        for tag in tagset:\n",
    "            bin_feat = 1 if pos_map[tag] > 0 else 0\n",
    "            bound_freq_feat = 2 if pos_map[tag] > 1 else pos_map[tag]\n",
    "            unbound_freq_feat = pos_map[tag]\n",
    "            perc_feat = pos_map[tag] / num_tokens\n",
    "            \n",
    "            pos_features.append(bin_feat)\n",
    "            pos_features.append(bound_freq_feat)\n",
    "            pos_features.append(unbound_freq_feat)\n",
    "            pos_features.append(perc_feat)\n",
    "            \n",
    "        num_ents = len(ents_list)\n",
    "        bin_ents = 1 if num_ents > 0 else 0\n",
    "        num_tokens_ents = len([ent_type for (_,_,_,ent_type) in pos_list if ent_type != ''])\n",
    "            \n",
    "        ent_features = [bin_ents, num_ents, num_tokens_ents]\n",
    "        \n",
    "        syn_features.append(pos_features + ent_features)\n",
    "    \n",
    "    return syn_features"
   ]
  }
 ],
 "metadata": {
  "kernelspec": {
   "display_name": "Python 3",
   "language": "python",
   "name": "python3"
  },
  "language_info": {
   "codemirror_mode": {
    "name": "ipython",
    "version": 3
   },
   "file_extension": ".py",
   "mimetype": "text/x-python",
   "name": "python",
   "nbconvert_exporter": "python",
   "pygments_lexer": "ipython3",
   "version": "3.6.6"
  },
  "pycharm": {
   "stem_cell": {
    "cell_type": "raw",
    "metadata": {
     "collapsed": false
    },
    "source": []
   }
  }
 },
 "nbformat": 4,
 "nbformat_minor": 2
}
