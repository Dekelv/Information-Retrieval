{
 "cells": [
  {
   "cell_type": "code",
   "execution_count": null,
   "metadata": {},
   "outputs": [],
   "source": [
    "####The model is already generated in the word2vec.model file so you can ignore this file\n",
    "\n",
    "import csv\n",
    "\n",
    "s = open(\"sarcasmCorpusNoUsername.txt\",\"+w\")\n",
    "\n",
    "with open(\"train-balanced-sarcasm.csv\", \"r\") as f:\n",
    "    reader = csv.reader(f, delimiter=\",\")\n",
    "    cnt = 0\n",
    "    for i, line in enumerate(reader):\n",
    "        #print(line)\n",
    "        if(line[0]=='1' and len(line[1])<181):\n",
    "            cnt+=1\n",
    "            s.write(line[1] + \"\\n\")\n",
    "        #print (\"line[{}] = {}\".format(i, line))\n",
    "    print(cnt)\n",
    "s.close()"
   ]
  },
  {
   "cell_type": "code",
   "execution_count": null,
   "metadata": {},
   "outputs": [],
   "source": [
    "import nltk\n",
    "from nltk import word_tokenize\n",
    "nltk.download('punkt')\n",
    "#import sklearn\n",
    "print('The nltk version is {}.'.format(nltk.__version__))\n",
    "#print('The scikit-learn version is {}.'.format(sklearn.__version__))"
   ]
  },
  {
   "cell_type": "code",
   "execution_count": null,
   "metadata": {},
   "outputs": [],
   "source": [
    "sentences = []\n",
    "count = 0\n",
    "max_words = 0\n",
    "with open(\"sarcasmCorpusNoUsername.txt\",\"r\") as f:\n",
    "    while True: \n",
    "        count += 1\n",
    "\n",
    "        # Get next line from file \n",
    "        line = f.readline() \n",
    "        if(len(word_tokenize(line))>max_words):\n",
    "            max_words= len(word_tokenize(line));\n",
    "        sentences.append(word_tokenize(line))\n",
    "        # if line is empty \n",
    "        # end of file is reached \n",
    "        if not line: \n",
    "            break\n",
    "print(max_words)\n",
    "print(sentences[50])"
   ]
  },
  {
   "cell_type": "code",
   "execution_count": null,
   "metadata": {},
   "outputs": [],
   "source": [
    "from gensim.models import Word2Vec\n",
    "model = Word2Vec(min_count=1,window=8,size=200,workers=8)"
   ]
  },
  {
   "cell_type": "code",
   "execution_count": null,
   "metadata": {},
   "outputs": [],
   "source": [
    "model.build_vocab(sentences)\n",
    "model.train(sentences, total_examples=model.corpus_count, epochs=30)"
   ]
  },
  {
   "cell_type": "code",
   "execution_count": null,
   "metadata": {},
   "outputs": [],
   "source": [
    "model.save(\"word2vec.model\")"
   ]
  },
  {
   "cell_type": "code",
   "execution_count": null,
   "metadata": {},
   "outputs": [],
   "source": []
  }
 ],
 "metadata": {
  "kernelspec": {
   "display_name": "Python 3",
   "language": "python",
   "name": "python3"
  },
  "language_info": {
   "codemirror_mode": {
    "name": "ipython",
    "version": 3
   },
   "file_extension": ".py",
   "mimetype": "text/x-python",
   "name": "python",
   "nbconvert_exporter": "python",
   "pygments_lexer": "ipython3",
   "version": "3.7.4"
  }
 },
 "nbformat": 4,
 "nbformat_minor": 4
}
