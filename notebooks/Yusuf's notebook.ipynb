{
 "cells": [
  {
   "cell_type": "code",
   "execution_count": 3,
   "metadata": {},
   "outputs": [],
   "source": [
    "import pandas as pd\n",
    "import numpy as np\n",
    "import re \n",
    "import heapq \n",
    "import string\n",
    "import emoji\n",
    "\n",
    "from tqdm import tqdm_notebook\n",
    "from nltk import ngrams\n",
    "from nltk.tokenize.casual import casual_tokenize\n",
    "from nltk.stem import WordNetLemmatizer "
   ]
  },
  {
   "cell_type": "code",
   "execution_count": 4,
   "metadata": {},
   "outputs": [],
   "source": [
    "df = pd.read_csv('data/original.txt', sep=\"\\t\", quotechar=\"~\")\n",
    "labels = np.asarray(df[\"Label\"])\n",
    "tweets = np.asarray(df[\"Tweet text\"])"
   ]
  },
  {
   "cell_type": "code",
   "execution_count": 5,
   "metadata": {},
   "outputs": [],
   "source": [
    "lemmatizer = WordNetLemmatizer() \n",
    "tweets_tokenized = [casual_tokenize(tweet) for tweet in tweets]\n",
    "tweets_lemmatized = [[lemmatizer.lemmatize(token) for token in tweet] for tweet in tweets_tokenized]"
   ]
  },
  {
   "cell_type": "code",
   "execution_count": 16,
   "metadata": {},
   "outputs": [
    {
     "data": {
      "application/vnd.jupyter.widget-view+json": {
       "model_id": "1fac3ded5c804079952570c936ac8a7e",
       "version_major": 2,
       "version_minor": 0
      },
      "text/plain": [
       "HBox(children=(IntProgress(value=0, max=3834), HTML(value='')))"
      ]
     },
     "metadata": {},
     "output_type": "display_data"
    },
    {
     "name": "stdout",
     "output_type": "stream",
     "text": [
      "\n"
     ]
    },
    {
     "data": {
      "application/vnd.jupyter.widget-view+json": {
       "model_id": "4cf21b9d3be84e858d826db5641afd8c",
       "version_major": 2,
       "version_minor": 0
      },
      "text/plain": [
       "HBox(children=(IntProgress(value=0, max=3834), HTML(value='')))"
      ]
     },
     "metadata": {},
     "output_type": "display_data"
    },
    {
     "name": "stdout",
     "output_type": "stream",
     "text": [
      "\n"
     ]
    },
    {
     "data": {
      "application/vnd.jupyter.widget-view+json": {
       "model_id": "ca046be341ec4701a213078bbb0c0ec0",
       "version_major": 2,
       "version_minor": 0
      },
      "text/plain": [
       "HBox(children=(IntProgress(value=0, max=3834), HTML(value='')))"
      ]
     },
     "metadata": {},
     "output_type": "display_data"
    },
    {
     "name": "stdout",
     "output_type": "stream",
     "text": [
      "\n"
     ]
    },
    {
     "data": {
      "application/vnd.jupyter.widget-view+json": {
       "model_id": "7834f451c9dd4519b25a06f5d001b3e7",
       "version_major": 2,
       "version_minor": 0
      },
      "text/plain": [
       "HBox(children=(IntProgress(value=0, max=3834), HTML(value='')))"
      ]
     },
     "metadata": {},
     "output_type": "display_data"
    },
    {
     "name": "stdout",
     "output_type": "stream",
     "text": [
      "\n"
     ]
    },
    {
     "data": {
      "application/vnd.jupyter.widget-view+json": {
       "model_id": "a049372ebeb74eb4982961ed1b3dcb3b",
       "version_major": 2,
       "version_minor": 0
      },
      "text/plain": [
       "HBox(children=(IntProgress(value=0, max=3834), HTML(value='')))"
      ]
     },
     "metadata": {},
     "output_type": "display_data"
    },
    {
     "name": "stdout",
     "output_type": "stream",
     "text": [
      "\n"
     ]
    },
    {
     "data": {
      "application/vnd.jupyter.widget-view+json": {
       "model_id": "903d2b26af2a41aaa147cf95c037e9ba",
       "version_major": 2,
       "version_minor": 0
      },
      "text/plain": [
       "HBox(children=(IntProgress(value=0, max=3834), HTML(value='')))"
      ]
     },
     "metadata": {},
     "output_type": "display_data"
    },
    {
     "name": "stdout",
     "output_type": "stream",
     "text": [
      "\n"
     ]
    },
    {
     "data": {
      "application/vnd.jupyter.widget-view+json": {
       "model_id": "7c56a3fe5d744fabb5d3920fefb8c8dc",
       "version_major": 2,
       "version_minor": 0
      },
      "text/plain": [
       "HBox(children=(IntProgress(value=0, max=3834), HTML(value='')))"
      ]
     },
     "metadata": {},
     "output_type": "display_data"
    },
    {
     "name": "stdout",
     "output_type": "stream",
     "text": [
      "\n"
     ]
    },
    {
     "data": {
      "application/vnd.jupyter.widget-view+json": {
       "model_id": "18023613fdb1466ebb6bf882b472c94b",
       "version_major": 2,
       "version_minor": 0
      },
      "text/plain": [
       "HBox(children=(IntProgress(value=0, max=3834), HTML(value='')))"
      ]
     },
     "metadata": {},
     "output_type": "display_data"
    },
    {
     "name": "stdout",
     "output_type": "stream",
     "text": [
      "\n"
     ]
    }
   ],
   "source": [
    "test = get_lexical_features(tweets_lemmatized, bow_length=100)"
   ]
  },
  {
   "cell_type": "code",
   "execution_count": 15,
   "metadata": {},
   "outputs": [],
   "source": [
    "def division_nonzero(n, d):\n",
    "    return n / d if d else 0\n",
    "\n",
    "## Get array of all lexical features\n",
    "# If you want numeric flooding or punctuation features, make sure to set these parameters to True when calling the method\n",
    "# bow_length is the length of your bag_of_words features.\n",
    "def get_lexical_features(corpus, emojis=False, use_spaces=True, flooding_numeric=False, punctuation_numeric=False, bow_length=None):\n",
    "    features = []\n",
    "    \n",
    "    # Token unigrams\n",
    "    token_unigrams = corpus\n",
    "    \n",
    "    # Token bigrams\n",
    "    token_bigrams = []\n",
    "    \n",
    "    # Character trigrams\n",
    "    char_trigrams = []\n",
    "    \n",
    "    # Character fourgrams\n",
    "    char_fourgrams = []    \n",
    "    \n",
    "    # Punctuation (numerical/binary)\n",
    "    punctuation = []\n",
    "    \n",
    "    # Capitalisation (numerical/binary)\n",
    "    capitalisation = []\n",
    "    \n",
    "    # Flooding (numerical/binary)\n",
    "    flooding = []\n",
    "    \n",
    "    # Hashtag frequency\n",
    "    hashtag_freq = []\n",
    "    \n",
    "    # Hashtag-to-word ratio\n",
    "    hashtag_to_word = []\n",
    "    \n",
    "    # Emoticon frequency\n",
    "    emoticon_freq = []\n",
    "    \n",
    "    # Tweet length (in tokens)\n",
    "    tweet_length = []\n",
    "    \n",
    "    # Count co-occurences in lists\n",
    "    count = lambda l1, l2: len(list(filter(lambda c: c in l2, l1)))\n",
    "    \n",
    "    # For every text in the corpus\n",
    "    for tweet in corpus:\n",
    "        \n",
    "        # Save the length in tokens\n",
    "        tweet_length.append(len(tweet))\n",
    "        \n",
    "        # Create sentences, with and without spaces\n",
    "        sentence = \" \".join(tweet)\n",
    "        sentence_nospace = \"\".join(tweet)\n",
    "        \n",
    "        if emojis is True:\n",
    "            sentence = emoji.demojize(sentence)\n",
    "            sentence_nospace = emoji.demojize(sentence)\n",
    "        \n",
    "        # Token bigrams\n",
    "        token_bigrams.append(list(ngrams(tweet, 2)))\n",
    "        \n",
    "        # Character trigrams and fourgrams\n",
    "        if use_spaces is True:\n",
    "            char_trigrams.append(list(ngrams(sentence, 3)))\n",
    "            char_fourgrams.append(list(ngrams(sentence, 4)))\n",
    "        else:\n",
    "            char_trigrams.append(list(ngrams(sentence_nospace, 3)))\n",
    "            char_fourgrams.append(list(ngrams(sentence_nospace, 4)))\n",
    "\n",
    "        # Count punctuation and capitalisation\n",
    "        amount_punct = count(sentence, string.punctuation)\n",
    "        amount_cap = len(re.findall(r'[A-Z]',sentence))\n",
    "\n",
    "        # If numeric, save amount of punctuation, else binary\n",
    "        if amount_punct > 0:\n",
    "            if punctuation_numeric:\n",
    "                punctuation.append(amount_punct)\n",
    "            else:\n",
    "                punctuation.append(1)\n",
    "        else:\n",
    "            punctuation.append(0)\n",
    "\n",
    "        # If numeric, save amount of capitalisation, else binary\n",
    "        if amount_cap > 0:\n",
    "            if punctuation_numeric:\n",
    "                capitalisation.append(amount_cap)\n",
    "            else:\n",
    "                capitalisation.append(1)\n",
    "        else:\n",
    "            capitalisation.append(0)\n",
    "        \n",
    "        \n",
    "        # Counters for flooding, hashtags and emoticons\n",
    "        amount_flooding = 0\n",
    "        amount_hashtags = 0\n",
    "        amount_emoticons = 0\n",
    "        \n",
    "        # For every token\n",
    "        for word in tweet:\n",
    "            if emoji is True:\n",
    "                word = emoji.demojize(word)\n",
    "            \n",
    "            # Detect hashtags\n",
    "            if word.startswith(\"#\"):\n",
    "                amount_hashtags += 1\n",
    "                \n",
    "            # Detect emoticons\n",
    "            if word.startswith(\":\") and word.endswith(\":\"):\n",
    "                amount_emoticons += 1\n",
    "                \n",
    "            # Check for flooding (3 of same characters in a row)\n",
    "            for i in range(len(word)-2):\n",
    "                if word[i] == word[i + 1] and word[i + 1] == word[i + 2]:\n",
    "                    amount_flooding += 1\n",
    "        \n",
    "        # If numeric, save amount of flooding characters, else binary\n",
    "        if amount_flooding > 0:\n",
    "            if flooding_numeric is True:\n",
    "                flooding.append(amount_flooding)\n",
    "            else:\n",
    "                flooding.append(1)\n",
    "        else:\n",
    "            flooding.append(0)\n",
    "            \n",
    "        # Calculate hashtag frequency ((amount of hashtags / tweet length in tokens) * 100)\n",
    "        hashtag_freq.append((amount_hashtags / len(tweet)) * 100)\n",
    "        \n",
    "        # Calculate hashtag-to-word ratio (amount of hashtags / amount of non hashtag words)\n",
    "        hashtag_to_word.append(division_nonzero(amount_hashtags, (len(tweet) - amount_hashtags)))\n",
    "        \n",
    "        # Calculate emoticon frequency ((amount of emoticons / tweet length in tokens) * 100)\n",
    "        emoticon_freq.append((amount_emoticons / len(tweet)) * 100)\n",
    "        \n",
    "    # Add bags of n-grams to the feature set\n",
    "    features.append(bag_of_words(token_unigrams, bow_length))\n",
    "    features.append(bag_of_words(token_bigrams, bow_length))\n",
    "    features.append(bag_of_words(char_trigrams, bow_length))\n",
    "    features.append(bag_of_words(char_fourgrams, bow_length))\n",
    "    \n",
    "    # Add other features to the feature set\n",
    "    features.append(punctuation)\n",
    "    features.append(capitalisation)\n",
    "    features.append(flooding)\n",
    "    features.append(hashtag_freq)\n",
    "    features.append(hashtag_to_word)\n",
    "    features.append(emoticon_freq)\n",
    "    features.append(tweet_length)\n",
    "\n",
    "    return features\n",
    "\n"
   ]
  },
  {
   "cell_type": "code",
   "execution_count": 11,
   "metadata": {},
   "outputs": [],
   "source": [
    "###################################### BAGS OF WORDS ############################################\n",
    "\n",
    "def bag_of_words(array, bow_length=None):\n",
    "    # Map for word frequencies\n",
    "    word2count = {} \n",
    "\n",
    "    # For every tweet, update word count for each word\n",
    "    for tweet in tqdm_notebook(array): \n",
    "        for word in tweet: \n",
    "            if word not in word2count.keys(): \n",
    "                word2count[word] = 1\n",
    "            else: \n",
    "                word2count[word] += 1\n",
    "\n",
    "    if bow_length is None:\n",
    "        bow_length = len(word2count)\n",
    "    freq_words = heapq.nlargest(bow_length, word2count, key=word2count.get)\n",
    "\n",
    "    # Array for bags of words\n",
    "    X = [] \n",
    "    for tweet in tqdm_notebook(array): \n",
    "        vector = [] \n",
    "        for word in freq_words: \n",
    "            if word in tweet: \n",
    "                vector.append(1) \n",
    "            else: \n",
    "                vector.append(0) \n",
    "        X.append(vector) \n",
    "    return np.asarray(X)\n",
    "\n",
    "\n",
    "##################################################################################################"
   ]
  },
  {
   "cell_type": "code",
   "execution_count": 14,
   "metadata": {},
   "outputs": [
    {
     "data": {
      "application/vnd.jupyter.widget-view+json": {
       "model_id": "5614f691404e4eada2054fbbc83add86",
       "version_major": 2,
       "version_minor": 0
      },
      "text/plain": [
       "HBox(children=(IntProgress(value=0, max=3834), HTML(value='')))"
      ]
     },
     "metadata": {},
     "output_type": "display_data"
    },
    {
     "name": "stdout",
     "output_type": "stream",
     "text": [
      "\n"
     ]
    },
    {
     "data": {
      "application/vnd.jupyter.widget-view+json": {
       "model_id": "570a2564129d48b8914a6d8bd1d29e3d",
       "version_major": 2,
       "version_minor": 0
      },
      "text/plain": [
       "HBox(children=(IntProgress(value=0, max=3834), HTML(value='')))"
      ]
     },
     "metadata": {},
     "output_type": "display_data"
    },
    {
     "name": "stdout",
     "output_type": "stream",
     "text": [
      "\n"
     ]
    }
   ],
   "source": [
    "####################################### TOKEN BIGRAMS #############################################\n",
    "\n",
    "token_bigrams = []\n",
    "\n",
    "for tweet in tweets_lemmatized:\n",
    "    token_bigrams.append(list(ngrams(tweet, 2)))\n",
    "    \n",
    "bag_of_token_bigrams = bag_of_words(token_bigrams)\n",
    "    \n",
    "##################################################################################################"
   ]
  },
  {
   "cell_type": "code",
   "execution_count": null,
   "metadata": {},
   "outputs": [
    {
     "data": {
      "application/vnd.jupyter.widget-view+json": {
       "model_id": "df3d663b7cd24f2fbc044e4e45a06496",
       "version_major": 2,
       "version_minor": 0
      },
      "text/plain": [
       "HBox(children=(IntProgress(value=0, max=3834), HTML(value='')))"
      ]
     },
     "metadata": {},
     "output_type": "display_data"
    },
    {
     "name": "stdout",
     "output_type": "stream",
     "text": [
      "\n"
     ]
    },
    {
     "data": {
      "application/vnd.jupyter.widget-view+json": {
       "model_id": "6b366bd045744b5ba8d0e43009cc8449",
       "version_major": 2,
       "version_minor": 0
      },
      "text/plain": [
       "HBox(children=(IntProgress(value=0, max=3834), HTML(value='')))"
      ]
     },
     "metadata": {},
     "output_type": "display_data"
    }
   ],
   "source": [
    "########################### CHARACTER TRIGRAMS AND FOURGRAMS (WITH SPACES) #######################\n",
    "\n",
    "char_trigrams = []\n",
    "char_fourgrams = []\n",
    "\n",
    "for tweet in tweets_lemmatized:\n",
    "    sentence = \" \".join(tweet)\n",
    "    char_trigrams.append(list(ngrams(sentence, 3)))\n",
    "    char_fourgrams.append(list(ngrams(sentence, 4)))\n",
    "    \n",
    "bag_of_char_trigrams = bag_of_words(char_trigrams)\n",
    "bag_of_char_fourgrams = bag_of_words(char_fourgrams)\n",
    "    \n",
    "##################################################################################################"
   ]
  },
  {
   "cell_type": "code",
   "execution_count": 39,
   "metadata": {},
   "outputs": [],
   "source": [
    "######################## CHARACTER TRIGRAMS AND FOURGRAMS (WITHOUT SPACES) #######################\n",
    "\n",
    "char_trigrams_nosp = []\n",
    "char_fourgrams_nosp = []\n",
    "\n",
    "for tweet in tweets_lemmatized:\n",
    "    sentence = \"\".join(tweet)\n",
    "    char_trigrams_nosp.append(list(ngrams(sentence, 3)))\n",
    "    char_fourgrams_nosp.append(list(ngrams(sentence, 4)))\n",
    "    \n",
    "    \n",
    "##################################################################################################"
   ]
  },
  {
   "cell_type": "code",
   "execution_count": 43,
   "metadata": {},
   "outputs": [],
   "source": [
    "############################### CHARACTER AND PUNCTUATION FLOODING ##############################\n",
    "\n",
    "flooding = []\n",
    "\n",
    "for tweet in tweets_lemmatized:\n",
    "    amount = 0\n",
    "    for word in tweet:\n",
    "        for i in range(len(word)-2):\n",
    "            if word[i] == word[i + 1] and word[i + 1] == word[i + 2]:\n",
    "                amount += 1\n",
    "    if amount > 0:\n",
    "        flooding.append([amount, True])\n",
    "    else:\n",
    "        flooding.append([amount, False])\n",
    "        \n",
    "##################################################################################################"
   ]
  },
  {
   "cell_type": "code",
   "execution_count": 66,
   "metadata": {},
   "outputs": [],
   "source": [
    "############################### PUNCTUATION AND CAPITALIZATION ####################################\n",
    "punctuation = []\n",
    "capitalisation = []\n",
    "\n",
    "count = lambda l1, l2: len(list(filter(lambda c: c in l2, l1)))\n",
    "\n",
    "for tweet in tweets_lemmatized:\n",
    "    sentence = \" \".join(tweet)\n",
    "    amountPunct = count(sentence, string.punctuation)\n",
    "    amountCap = len(re.findall(r'[A-Z]',sentence))\n",
    "    \n",
    "    if amountPunct > 0:\n",
    "        punctuation.append([amountPunct, True])\n",
    "    else:\n",
    "        punctuation.append([amountPunct, False])\n",
    "        \n",
    "    if amountCap > 0:\n",
    "        capitalisation.append([amountCap, True])\n",
    "    else:\n",
    "        \n",
    "        capitalisation.append([amountCap, False])\n",
    "        \n",
    "##################################################################################################"
   ]
  },
  {
   "cell_type": "code",
   "execution_count": 35,
   "metadata": {},
   "outputs": [],
   "source": [
    "#################################### HASHTAG FEATURES ##########################################\n",
    "\n",
    "hashtag_freq = []\n",
    "hashtag_to_word = []\n",
    "emoticon_freq = []\n",
    "tweet_length = []\n",
    "\n",
    "for tweet in tweets_lemmatized:\n",
    "    tweet_length.append(len(tweet))\n",
    "    amount_hashtags = 0\n",
    "    amount_emoticons = 0\n",
    "    for word in tweet:\n",
    "        if word.startswith(\"#\"):\n",
    "            amount_hashtags += 1\n",
    "        if word.startswith(\":\") and word.endswith(\":\"):\n",
    "            amount_emoticons += 1\n",
    "    \n",
    "    hashtag_freq.append((amount_hashtags / len(tweet)) * 100)\n",
    "    hashtag_to_word.append(division_nonzero(amount_hashtags, (len(tweet) - amount_hashtags)))\n",
    "    emoticon_freq.append((amount_emoticons / len(tweet)) * 100)\n",
    "    \n",
    "    \n",
    "            \n",
    "\n",
    "\n",
    "        \n",
    "##################################################################################################"
   ]
  },
  {
   "cell_type": "code",
   "execution_count": 41,
   "metadata": {},
   "outputs": [
    {
     "data": {
      "application/vnd.jupyter.widget-view+json": {
       "model_id": "772e719ab929493e9fcf207c35c0b78d",
       "version_major": 2,
       "version_minor": 0
      },
      "text/plain": [
       "HBox(children=(IntProgress(value=0, max=3834), HTML(value='')))"
      ]
     },
     "metadata": {},
     "output_type": "display_data"
    },
    {
     "name": "stdout",
     "output_type": "stream",
     "text": [
      "\n"
     ]
    },
    {
     "data": {
      "application/vnd.jupyter.widget-view+json": {
       "model_id": "0f4af53c396e42fc844c26838a19ca55",
       "version_major": 2,
       "version_minor": 0
      },
      "text/plain": [
       "HBox(children=(IntProgress(value=0, max=3834), HTML(value='')))"
      ]
     },
     "metadata": {},
     "output_type": "display_data"
    },
    {
     "name": "stdout",
     "output_type": "stream",
     "text": [
      "\n"
     ]
    },
    {
     "data": {
      "application/vnd.jupyter.widget-view+json": {
       "model_id": "a323f1972a2447448fe83ac9d066403c",
       "version_major": 2,
       "version_minor": 0
      },
      "text/plain": [
       "HBox(children=(IntProgress(value=0, max=3834), HTML(value='')))"
      ]
     },
     "metadata": {},
     "output_type": "display_data"
    },
    {
     "name": "stdout",
     "output_type": "stream",
     "text": [
      "\n"
     ]
    },
    {
     "data": {
      "application/vnd.jupyter.widget-view+json": {
       "model_id": "a52a0c036a4a48e788bfc055a61e8dcf",
       "version_major": 2,
       "version_minor": 0
      },
      "text/plain": [
       "HBox(children=(IntProgress(value=0, max=3834), HTML(value='')))"
      ]
     },
     "metadata": {},
     "output_type": "display_data"
    },
    {
     "name": "stdout",
     "output_type": "stream",
     "text": [
      "\n"
     ]
    },
    {
     "data": {
      "application/vnd.jupyter.widget-view+json": {
       "model_id": "c15ced44452942ff9a927e8cdb370acc",
       "version_major": 2,
       "version_minor": 0
      },
      "text/plain": [
       "HBox(children=(IntProgress(value=0, max=3834), HTML(value='')))"
      ]
     },
     "metadata": {},
     "output_type": "display_data"
    },
    {
     "name": "stdout",
     "output_type": "stream",
     "text": [
      "\n"
     ]
    },
    {
     "data": {
      "application/vnd.jupyter.widget-view+json": {
       "model_id": "e7d8d7c6f452480c9ca553888ab15ac8",
       "version_major": 2,
       "version_minor": 0
      },
      "text/plain": [
       "HBox(children=(IntProgress(value=0, max=3834), HTML(value='')))"
      ]
     },
     "metadata": {},
     "output_type": "display_data"
    },
    {
     "name": "stdout",
     "output_type": "stream",
     "text": [
      "\n"
     ]
    },
    {
     "data": {
      "application/vnd.jupyter.widget-view+json": {
       "model_id": "330fc181deab4f0eb8c010cf87dc44ec",
       "version_major": 2,
       "version_minor": 0
      },
      "text/plain": [
       "HBox(children=(IntProgress(value=0, max=3834), HTML(value='')))"
      ]
     },
     "metadata": {},
     "output_type": "display_data"
    },
    {
     "name": "stdout",
     "output_type": "stream",
     "text": [
      "\n"
     ]
    },
    {
     "data": {
      "application/vnd.jupyter.widget-view+json": {
       "model_id": "b75468052b3e4cca951e11bf20766a5a",
       "version_major": 2,
       "version_minor": 0
      },
      "text/plain": [
       "HBox(children=(IntProgress(value=0, max=3834), HTML(value='')))"
      ]
     },
     "metadata": {},
     "output_type": "display_data"
    },
    {
     "name": "stdout",
     "output_type": "stream",
     "text": [
      "\n"
     ]
    }
   ],
   "source": [
    "result = get_lexical_features(tweets_lemmatized, True, True, 100)"
   ]
  },
  {
   "cell_type": "code",
   "execution_count": 46,
   "metadata": {},
   "outputs": [
    {
     "data": {
      "text/plain": [
       "3834"
      ]
     },
     "execution_count": 46,
     "metadata": {},
     "output_type": "execute_result"
    }
   ],
   "source": []
  }
 ],
 "metadata": {
  "kernelspec": {
   "display_name": "Python 3",
   "language": "python",
   "name": "python3"
  },
  "language_info": {
   "codemirror_mode": {
    "name": "ipython",
    "version": 3
   },
   "file_extension": ".py",
   "mimetype": "text/x-python",
   "name": "python",
   "nbconvert_exporter": "python",
   "pygments_lexer": "ipython3",
   "version": "3.7.4"
  }
 },
 "nbformat": 4,
 "nbformat_minor": 2
}
